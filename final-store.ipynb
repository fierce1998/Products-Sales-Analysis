{
 "cells": [
  {
   "cell_type": "code",
   "execution_count": 1,
   "metadata": {
    "collapsed": false,
    "scrolled": false
   },
   "outputs": [
    {
     "data": {
      "text/html": [
       "<div>\n",
       "<table border=\"1\" class=\"dataframe\">\n",
       "  <thead>\n",
       "    <tr style=\"text-align: right;\">\n",
       "      <th></th>\n",
       "      <th>Store</th>\n",
       "      <th>Date</th>\n",
       "      <th>Temperature</th>\n",
       "      <th>Fuel_Price</th>\n",
       "      <th>MarkDown1</th>\n",
       "      <th>MarkDown2</th>\n",
       "      <th>MarkDown3</th>\n",
       "      <th>MarkDown4</th>\n",
       "      <th>MarkDown5</th>\n",
       "      <th>CPI</th>\n",
       "      <th>Unemployment</th>\n",
       "      <th>IsHoliday</th>\n",
       "    </tr>\n",
       "  </thead>\n",
       "  <tbody>\n",
       "    <tr>\n",
       "      <th>0</th>\n",
       "      <td>1</td>\n",
       "      <td>2010/2/5</td>\n",
       "      <td>42.31</td>\n",
       "      <td>2.572</td>\n",
       "      <td>NaN</td>\n",
       "      <td>NaN</td>\n",
       "      <td>NaN</td>\n",
       "      <td>NaN</td>\n",
       "      <td>NaN</td>\n",
       "      <td>211.096358</td>\n",
       "      <td>8.106</td>\n",
       "      <td>0</td>\n",
       "    </tr>\n",
       "    <tr>\n",
       "      <th>1</th>\n",
       "      <td>2</td>\n",
       "      <td>2010/2/5</td>\n",
       "      <td>40.19</td>\n",
       "      <td>2.572</td>\n",
       "      <td>NaN</td>\n",
       "      <td>NaN</td>\n",
       "      <td>NaN</td>\n",
       "      <td>NaN</td>\n",
       "      <td>NaN</td>\n",
       "      <td>210.752605</td>\n",
       "      <td>8.324</td>\n",
       "      <td>0</td>\n",
       "    </tr>\n",
       "    <tr>\n",
       "      <th>2</th>\n",
       "      <td>3</td>\n",
       "      <td>2010/2/5</td>\n",
       "      <td>45.71</td>\n",
       "      <td>2.572</td>\n",
       "      <td>NaN</td>\n",
       "      <td>NaN</td>\n",
       "      <td>NaN</td>\n",
       "      <td>NaN</td>\n",
       "      <td>NaN</td>\n",
       "      <td>214.424881</td>\n",
       "      <td>7.368</td>\n",
       "      <td>0</td>\n",
       "    </tr>\n",
       "    <tr>\n",
       "      <th>3</th>\n",
       "      <td>4</td>\n",
       "      <td>2010/2/5</td>\n",
       "      <td>43.76</td>\n",
       "      <td>2.598</td>\n",
       "      <td>NaN</td>\n",
       "      <td>NaN</td>\n",
       "      <td>NaN</td>\n",
       "      <td>NaN</td>\n",
       "      <td>NaN</td>\n",
       "      <td>126.442065</td>\n",
       "      <td>8.623</td>\n",
       "      <td>0</td>\n",
       "    </tr>\n",
       "    <tr>\n",
       "      <th>4</th>\n",
       "      <td>5</td>\n",
       "      <td>2010/2/5</td>\n",
       "      <td>39.70</td>\n",
       "      <td>2.572</td>\n",
       "      <td>NaN</td>\n",
       "      <td>NaN</td>\n",
       "      <td>NaN</td>\n",
       "      <td>NaN</td>\n",
       "      <td>NaN</td>\n",
       "      <td>211.653972</td>\n",
       "      <td>6.566</td>\n",
       "      <td>0</td>\n",
       "    </tr>\n",
       "    <tr>\n",
       "      <th>5</th>\n",
       "      <td>6</td>\n",
       "      <td>2010/2/5</td>\n",
       "      <td>40.43</td>\n",
       "      <td>2.572</td>\n",
       "      <td>NaN</td>\n",
       "      <td>NaN</td>\n",
       "      <td>NaN</td>\n",
       "      <td>NaN</td>\n",
       "      <td>NaN</td>\n",
       "      <td>212.622352</td>\n",
       "      <td>7.259</td>\n",
       "      <td>0</td>\n",
       "    </tr>\n",
       "    <tr>\n",
       "      <th>6</th>\n",
       "      <td>7</td>\n",
       "      <td>2010/2/5</td>\n",
       "      <td>10.53</td>\n",
       "      <td>2.580</td>\n",
       "      <td>NaN</td>\n",
       "      <td>NaN</td>\n",
       "      <td>NaN</td>\n",
       "      <td>NaN</td>\n",
       "      <td>NaN</td>\n",
       "      <td>189.381697</td>\n",
       "      <td>9.014</td>\n",
       "      <td>0</td>\n",
       "    </tr>\n",
       "    <tr>\n",
       "      <th>7</th>\n",
       "      <td>8</td>\n",
       "      <td>2010/2/5</td>\n",
       "      <td>34.14</td>\n",
       "      <td>2.572</td>\n",
       "      <td>NaN</td>\n",
       "      <td>NaN</td>\n",
       "      <td>NaN</td>\n",
       "      <td>NaN</td>\n",
       "      <td>NaN</td>\n",
       "      <td>214.471451</td>\n",
       "      <td>6.299</td>\n",
       "      <td>0</td>\n",
       "    </tr>\n",
       "    <tr>\n",
       "      <th>8</th>\n",
       "      <td>9</td>\n",
       "      <td>2010/2/5</td>\n",
       "      <td>38.01</td>\n",
       "      <td>2.572</td>\n",
       "      <td>NaN</td>\n",
       "      <td>NaN</td>\n",
       "      <td>NaN</td>\n",
       "      <td>NaN</td>\n",
       "      <td>NaN</td>\n",
       "      <td>214.655459</td>\n",
       "      <td>6.415</td>\n",
       "      <td>0</td>\n",
       "    </tr>\n",
       "    <tr>\n",
       "      <th>9</th>\n",
       "      <td>10</td>\n",
       "      <td>2010/2/5</td>\n",
       "      <td>54.34</td>\n",
       "      <td>2.962</td>\n",
       "      <td>NaN</td>\n",
       "      <td>NaN</td>\n",
       "      <td>NaN</td>\n",
       "      <td>NaN</td>\n",
       "      <td>NaN</td>\n",
       "      <td>126.442065</td>\n",
       "      <td>9.765</td>\n",
       "      <td>0</td>\n",
       "    </tr>\n",
       "  </tbody>\n",
       "</table>\n",
       "</div>"
      ],
      "text/plain": [
       "   Store      Date  Temperature  Fuel_Price  MarkDown1  MarkDown2  MarkDown3  \\\n",
       "0      1  2010/2/5        42.31       2.572        NaN        NaN        NaN   \n",
       "1      2  2010/2/5        40.19       2.572        NaN        NaN        NaN   \n",
       "2      3  2010/2/5        45.71       2.572        NaN        NaN        NaN   \n",
       "3      4  2010/2/5        43.76       2.598        NaN        NaN        NaN   \n",
       "4      5  2010/2/5        39.70       2.572        NaN        NaN        NaN   \n",
       "5      6  2010/2/5        40.43       2.572        NaN        NaN        NaN   \n",
       "6      7  2010/2/5        10.53       2.580        NaN        NaN        NaN   \n",
       "7      8  2010/2/5        34.14       2.572        NaN        NaN        NaN   \n",
       "8      9  2010/2/5        38.01       2.572        NaN        NaN        NaN   \n",
       "9     10  2010/2/5        54.34       2.962        NaN        NaN        NaN   \n",
       "\n",
       "   MarkDown4  MarkDown5         CPI  Unemployment  IsHoliday  \n",
       "0        NaN        NaN  211.096358         8.106          0  \n",
       "1        NaN        NaN  210.752605         8.324          0  \n",
       "2        NaN        NaN  214.424881         7.368          0  \n",
       "3        NaN        NaN  126.442065         8.623          0  \n",
       "4        NaN        NaN  211.653972         6.566          0  \n",
       "5        NaN        NaN  212.622352         7.259          0  \n",
       "6        NaN        NaN  189.381697         9.014          0  \n",
       "7        NaN        NaN  214.471451         6.299          0  \n",
       "8        NaN        NaN  214.655459         6.415          0  \n",
       "9        NaN        NaN  126.442065         9.765          0  "
      ]
     },
     "execution_count": 1,
     "metadata": {},
     "output_type": "execute_result"
    }
   ],
   "source": [
    "import pandas as pd\n",
    "import numpy as np\n",
    "import matplotlib.pyplot as plt\n",
    "import seaborn as sns\n",
    "#导入数据\n",
    "train = pd.read_csv('train.csv')\n",
    "test = pd.read_csv('test.csv')\n",
    "features = pd.read_csv('features.csv')\n",
    "stores = pd.read_csv('stores.csv')\n",
    "features.head(10)"
   ]
  },
  {
   "cell_type": "code",
   "execution_count": 2,
   "metadata": {
    "collapsed": false
   },
   "outputs": [],
   "source": [
    "feature_train = features[0:6435]\n",
    "feature_test = features[6435:8191]"
   ]
  },
  {
   "cell_type": "code",
   "execution_count": 3,
   "metadata": {
    "collapsed": false,
    "scrolled": true
   },
   "outputs": [],
   "source": [
    "#数据合并\n",
    "train = pd.merge(train, feature_train,how='outer', on=['Store','Date'])\n",
    "test = pd.merge(test, feature_test,how='outer', on=['Store','Date'])"
   ]
  },
  {
   "cell_type": "code",
   "execution_count": 4,
   "metadata": {
    "collapsed": false,
    "scrolled": false
   },
   "outputs": [],
   "source": [
    "train = pd.merge(train, stores,how='outer', on='Store')\n",
    "test = pd.merge(test, stores,how='outer', on='Store')"
   ]
  },
  {
   "cell_type": "code",
   "execution_count": 5,
   "metadata": {
    "collapsed": false,
    "scrolled": false
   },
   "outputs": [],
   "source": [
    "train = train[np.isnan(train['MarkDown1']) == False] #提取出2011年11月之后的数据"
   ]
  },
  {
   "cell_type": "code",
   "execution_count": 6,
   "metadata": {
    "collapsed": false
   },
   "outputs": [
    {
     "data": {
      "text/plain": [
       "0    138739\n",
       "1     11942\n",
       "Name: IsHoliday, dtype: int64"
      ]
     },
     "execution_count": 6,
     "metadata": {},
     "output_type": "execute_result"
    }
   ],
   "source": [
    "train['IsHoliday'].value_counts()"
   ]
  },
  {
   "cell_type": "code",
   "execution_count": 7,
   "metadata": {
    "collapsed": false
   },
   "outputs": [
    {
     "data": {
      "text/plain": [
       "A    76955\n",
       "B    58727\n",
       "C    14999\n",
       "Name: Type, dtype: int64"
      ]
     },
     "execution_count": 7,
     "metadata": {},
     "output_type": "execute_result"
    }
   ],
   "source": [
    "train['Type'].value_counts()"
   ]
  },
  {
   "cell_type": "code",
   "execution_count": 8,
   "metadata": {
    "collapsed": false
   },
   "outputs": [],
   "source": [
    "#数字型编码\n",
    "col_dict = {}\n",
    "cols = ['Type']\n",
    "col_dict ={'Type':{'A':1, 'B':2, 'C':3}}\n",
    "for col in cols:\n",
    "    train[col] = train[col].map(col_dict[col])\n",
    "    test[col] = test[col].map(col_dict[col])"
   ]
  },
  {
   "cell_type": "code",
   "execution_count": 9,
   "metadata": {
    "collapsed": false
   },
   "outputs": [
    {
     "data": {
      "text/plain": [
       "1    76955\n",
       "2    58727\n",
       "3    14999\n",
       "Name: Type, dtype: int64"
      ]
     },
     "execution_count": 9,
     "metadata": {},
     "output_type": "execute_result"
    }
   ],
   "source": [
    "train['Type'].value_counts()"
   ]
  },
  {
   "cell_type": "code",
   "execution_count": 10,
   "metadata": {
    "collapsed": false
   },
   "outputs": [
    {
     "name": "stdout",
     "output_type": "stream",
     "text": [
      "False\n",
      "False\n",
      "False\n",
      "False\n",
      "False\n",
      "True\n",
      "True\n",
      "True\n",
      "False\n",
      "False\n",
      "False\n"
     ]
    }
   ],
   "source": [
    "#查找train集中的缺失值\n",
    "print (np.isnan(train['Weekly_Sales']).any())\n",
    "print (np.isnan(train['IsHoliday']).any())\n",
    "print (np.isnan(train['Temperature']).any())\n",
    "print (np.isnan(train['Fuel_Price']).any())\n",
    "print (np.isnan(train['MarkDown1']).any())\n",
    "print (np.isnan(train['MarkDown2']).any())\n",
    "print (np.isnan(train['MarkDown3']).any())\n",
    "print (np.isnan(train['MarkDown4']).any())\n",
    "print (np.isnan(train['MarkDown5']).any())\n",
    "print (np.isnan(train['CPI']).any())\n",
    "print (np.isnan(train['Unemployment']).any())"
   ]
  },
  {
   "cell_type": "code",
   "execution_count": 11,
   "metadata": {
    "collapsed": false,
    "scrolled": true
   },
   "outputs": [
    {
     "data": {
      "text/html": [
       "<div>\n",
       "<table border=\"1\" class=\"dataframe\">\n",
       "  <thead>\n",
       "    <tr style=\"text-align: right;\">\n",
       "      <th></th>\n",
       "      <th>Store</th>\n",
       "      <th>Dept</th>\n",
       "      <th>Date</th>\n",
       "      <th>Weekly_Sales</th>\n",
       "      <th>Temperature</th>\n",
       "      <th>Fuel_Price</th>\n",
       "      <th>MarkDown1</th>\n",
       "      <th>MarkDown2</th>\n",
       "      <th>MarkDown3</th>\n",
       "      <th>MarkDown4</th>\n",
       "      <th>MarkDown5</th>\n",
       "      <th>CPI</th>\n",
       "      <th>Unemployment</th>\n",
       "      <th>IsHoliday</th>\n",
       "      <th>Type</th>\n",
       "      <th>Size</th>\n",
       "    </tr>\n",
       "  </thead>\n",
       "  <tbody>\n",
       "    <tr>\n",
       "      <th>6587</th>\n",
       "      <td>1</td>\n",
       "      <td>1</td>\n",
       "      <td>2011/11/11</td>\n",
       "      <td>18689.54</td>\n",
       "      <td>59.11</td>\n",
       "      <td>3.297</td>\n",
       "      <td>10382.9</td>\n",
       "      <td>6115.67</td>\n",
       "      <td>215.07</td>\n",
       "      <td>2406.62</td>\n",
       "      <td>6551.42</td>\n",
       "      <td>217.998085</td>\n",
       "      <td>7.866</td>\n",
       "      <td>0</td>\n",
       "      <td>1</td>\n",
       "      <td>151315</td>\n",
       "    </tr>\n",
       "    <tr>\n",
       "      <th>6588</th>\n",
       "      <td>1</td>\n",
       "      <td>2</td>\n",
       "      <td>2011/11/11</td>\n",
       "      <td>44936.47</td>\n",
       "      <td>59.11</td>\n",
       "      <td>3.297</td>\n",
       "      <td>10382.9</td>\n",
       "      <td>6115.67</td>\n",
       "      <td>215.07</td>\n",
       "      <td>2406.62</td>\n",
       "      <td>6551.42</td>\n",
       "      <td>217.998085</td>\n",
       "      <td>7.866</td>\n",
       "      <td>0</td>\n",
       "      <td>1</td>\n",
       "      <td>151315</td>\n",
       "    </tr>\n",
       "    <tr>\n",
       "      <th>6589</th>\n",
       "      <td>1</td>\n",
       "      <td>3</td>\n",
       "      <td>2011/11/11</td>\n",
       "      <td>9959.64</td>\n",
       "      <td>59.11</td>\n",
       "      <td>3.297</td>\n",
       "      <td>10382.9</td>\n",
       "      <td>6115.67</td>\n",
       "      <td>215.07</td>\n",
       "      <td>2406.62</td>\n",
       "      <td>6551.42</td>\n",
       "      <td>217.998085</td>\n",
       "      <td>7.866</td>\n",
       "      <td>0</td>\n",
       "      <td>1</td>\n",
       "      <td>151315</td>\n",
       "    </tr>\n",
       "    <tr>\n",
       "      <th>6590</th>\n",
       "      <td>1</td>\n",
       "      <td>4</td>\n",
       "      <td>2011/11/11</td>\n",
       "      <td>36826.52</td>\n",
       "      <td>59.11</td>\n",
       "      <td>3.297</td>\n",
       "      <td>10382.9</td>\n",
       "      <td>6115.67</td>\n",
       "      <td>215.07</td>\n",
       "      <td>2406.62</td>\n",
       "      <td>6551.42</td>\n",
       "      <td>217.998085</td>\n",
       "      <td>7.866</td>\n",
       "      <td>0</td>\n",
       "      <td>1</td>\n",
       "      <td>151315</td>\n",
       "    </tr>\n",
       "    <tr>\n",
       "      <th>6591</th>\n",
       "      <td>1</td>\n",
       "      <td>5</td>\n",
       "      <td>2011/11/11</td>\n",
       "      <td>31002.65</td>\n",
       "      <td>59.11</td>\n",
       "      <td>3.297</td>\n",
       "      <td>10382.9</td>\n",
       "      <td>6115.67</td>\n",
       "      <td>215.07</td>\n",
       "      <td>2406.62</td>\n",
       "      <td>6551.42</td>\n",
       "      <td>217.998085</td>\n",
       "      <td>7.866</td>\n",
       "      <td>0</td>\n",
       "      <td>1</td>\n",
       "      <td>151315</td>\n",
       "    </tr>\n",
       "  </tbody>\n",
       "</table>\n",
       "</div>"
      ],
      "text/plain": [
       "      Store  Dept        Date  Weekly_Sales  Temperature  Fuel_Price  \\\n",
       "6587      1     1  2011/11/11      18689.54        59.11       3.297   \n",
       "6588      1     2  2011/11/11      44936.47        59.11       3.297   \n",
       "6589      1     3  2011/11/11       9959.64        59.11       3.297   \n",
       "6590      1     4  2011/11/11      36826.52        59.11       3.297   \n",
       "6591      1     5  2011/11/11      31002.65        59.11       3.297   \n",
       "\n",
       "      MarkDown1  MarkDown2  MarkDown3  MarkDown4  MarkDown5         CPI  \\\n",
       "6587    10382.9    6115.67     215.07    2406.62    6551.42  217.998085   \n",
       "6588    10382.9    6115.67     215.07    2406.62    6551.42  217.998085   \n",
       "6589    10382.9    6115.67     215.07    2406.62    6551.42  217.998085   \n",
       "6590    10382.9    6115.67     215.07    2406.62    6551.42  217.998085   \n",
       "6591    10382.9    6115.67     215.07    2406.62    6551.42  217.998085   \n",
       "\n",
       "      Unemployment  IsHoliday  Type    Size  \n",
       "6587         7.866          0     1  151315  \n",
       "6588         7.866          0     1  151315  \n",
       "6589         7.866          0     1  151315  \n",
       "6590         7.866          0     1  151315  \n",
       "6591         7.866          0     1  151315  "
      ]
     },
     "execution_count": 11,
     "metadata": {},
     "output_type": "execute_result"
    }
   ],
   "source": [
    "#填补train集中的缺失值\n",
    "train = train.fillna({'MarkDown1':0})\n",
    "train = train.fillna({'MarkDown2':0})\n",
    "train = train.fillna({'MarkDown3':0})\n",
    "train = train.fillna({'MarkDown4':0})\n",
    "train = train.fillna({'MarkDown5':0})\n",
    "train.head()"
   ]
  },
  {
   "cell_type": "code",
   "execution_count": 12,
   "metadata": {
    "collapsed": false
   },
   "outputs": [
    {
     "name": "stdout",
     "output_type": "stream",
     "text": [
      "False\n",
      "False\n",
      "False\n",
      "True\n",
      "True\n",
      "True\n",
      "True\n",
      "False\n",
      "True\n",
      "True\n"
     ]
    }
   ],
   "source": [
    "#查找test集中的缺失值\n",
    "print (np.isnan(test['IsHoliday']).any())\n",
    "print (np.isnan(test['Temperature']).any())\n",
    "print (np.isnan(test['Fuel_Price']).any())\n",
    "print (np.isnan(test['MarkDown1']).any())\n",
    "print (np.isnan(test['MarkDown2']).any())\n",
    "print (np.isnan(test['MarkDown3']).any())\n",
    "print (np.isnan(test['MarkDown4']).any())\n",
    "print (np.isnan(test['MarkDown5']).any())\n",
    "print (np.isnan(test['CPI']).any())\n",
    "print (np.isnan(test['Unemployment']).any())"
   ]
  },
  {
   "cell_type": "code",
   "execution_count": 13,
   "metadata": {
    "collapsed": false,
    "scrolled": true
   },
   "outputs": [
    {
     "data": {
      "text/html": [
       "<div>\n",
       "<table border=\"1\" class=\"dataframe\">\n",
       "  <thead>\n",
       "    <tr style=\"text-align: right;\">\n",
       "      <th></th>\n",
       "      <th>Store</th>\n",
       "      <th>Dept</th>\n",
       "      <th>Date</th>\n",
       "      <th>Temperature</th>\n",
       "      <th>Fuel_Price</th>\n",
       "      <th>MarkDown1</th>\n",
       "      <th>MarkDown2</th>\n",
       "      <th>MarkDown3</th>\n",
       "      <th>MarkDown4</th>\n",
       "      <th>MarkDown5</th>\n",
       "      <th>CPI</th>\n",
       "      <th>Unemployment</th>\n",
       "      <th>IsHoliday</th>\n",
       "      <th>Type</th>\n",
       "      <th>Size</th>\n",
       "    </tr>\n",
       "  </thead>\n",
       "  <tbody>\n",
       "    <tr>\n",
       "      <th>0</th>\n",
       "      <td>1</td>\n",
       "      <td>1</td>\n",
       "      <td>2012/11/2</td>\n",
       "      <td>55.32</td>\n",
       "      <td>3.386</td>\n",
       "      <td>6766.44</td>\n",
       "      <td>5147.7</td>\n",
       "      <td>50.82</td>\n",
       "      <td>3639.9</td>\n",
       "      <td>2737.42</td>\n",
       "      <td>223.462779</td>\n",
       "      <td>6.573</td>\n",
       "      <td>0</td>\n",
       "      <td>1</td>\n",
       "      <td>151315</td>\n",
       "    </tr>\n",
       "    <tr>\n",
       "      <th>1</th>\n",
       "      <td>1</td>\n",
       "      <td>2</td>\n",
       "      <td>2012/11/2</td>\n",
       "      <td>55.32</td>\n",
       "      <td>3.386</td>\n",
       "      <td>6766.44</td>\n",
       "      <td>5147.7</td>\n",
       "      <td>50.82</td>\n",
       "      <td>3639.9</td>\n",
       "      <td>2737.42</td>\n",
       "      <td>223.462779</td>\n",
       "      <td>6.573</td>\n",
       "      <td>0</td>\n",
       "      <td>1</td>\n",
       "      <td>151315</td>\n",
       "    </tr>\n",
       "    <tr>\n",
       "      <th>2</th>\n",
       "      <td>1</td>\n",
       "      <td>3</td>\n",
       "      <td>2012/11/2</td>\n",
       "      <td>55.32</td>\n",
       "      <td>3.386</td>\n",
       "      <td>6766.44</td>\n",
       "      <td>5147.7</td>\n",
       "      <td>50.82</td>\n",
       "      <td>3639.9</td>\n",
       "      <td>2737.42</td>\n",
       "      <td>223.462779</td>\n",
       "      <td>6.573</td>\n",
       "      <td>0</td>\n",
       "      <td>1</td>\n",
       "      <td>151315</td>\n",
       "    </tr>\n",
       "    <tr>\n",
       "      <th>3</th>\n",
       "      <td>1</td>\n",
       "      <td>4</td>\n",
       "      <td>2012/11/2</td>\n",
       "      <td>55.32</td>\n",
       "      <td>3.386</td>\n",
       "      <td>6766.44</td>\n",
       "      <td>5147.7</td>\n",
       "      <td>50.82</td>\n",
       "      <td>3639.9</td>\n",
       "      <td>2737.42</td>\n",
       "      <td>223.462779</td>\n",
       "      <td>6.573</td>\n",
       "      <td>0</td>\n",
       "      <td>1</td>\n",
       "      <td>151315</td>\n",
       "    </tr>\n",
       "    <tr>\n",
       "      <th>4</th>\n",
       "      <td>1</td>\n",
       "      <td>5</td>\n",
       "      <td>2012/11/2</td>\n",
       "      <td>55.32</td>\n",
       "      <td>3.386</td>\n",
       "      <td>6766.44</td>\n",
       "      <td>5147.7</td>\n",
       "      <td>50.82</td>\n",
       "      <td>3639.9</td>\n",
       "      <td>2737.42</td>\n",
       "      <td>223.462779</td>\n",
       "      <td>6.573</td>\n",
       "      <td>0</td>\n",
       "      <td>1</td>\n",
       "      <td>151315</td>\n",
       "    </tr>\n",
       "  </tbody>\n",
       "</table>\n",
       "</div>"
      ],
      "text/plain": [
       "   Store  Dept       Date  Temperature  Fuel_Price  MarkDown1  MarkDown2  \\\n",
       "0      1     1  2012/11/2        55.32       3.386    6766.44     5147.7   \n",
       "1      1     2  2012/11/2        55.32       3.386    6766.44     5147.7   \n",
       "2      1     3  2012/11/2        55.32       3.386    6766.44     5147.7   \n",
       "3      1     4  2012/11/2        55.32       3.386    6766.44     5147.7   \n",
       "4      1     5  2012/11/2        55.32       3.386    6766.44     5147.7   \n",
       "\n",
       "   MarkDown3  MarkDown4  MarkDown5         CPI  Unemployment  IsHoliday  Type  \\\n",
       "0      50.82     3639.9    2737.42  223.462779         6.573          0     1   \n",
       "1      50.82     3639.9    2737.42  223.462779         6.573          0     1   \n",
       "2      50.82     3639.9    2737.42  223.462779         6.573          0     1   \n",
       "3      50.82     3639.9    2737.42  223.462779         6.573          0     1   \n",
       "4      50.82     3639.9    2737.42  223.462779         6.573          0     1   \n",
       "\n",
       "     Size  \n",
       "0  151315  \n",
       "1  151315  \n",
       "2  151315  \n",
       "3  151315  \n",
       "4  151315  "
      ]
     },
     "execution_count": 13,
     "metadata": {},
     "output_type": "execute_result"
    }
   ],
   "source": [
    "#填补test集中的缺失值\n",
    "test = test.fillna({'MarkDown1':0})\n",
    "test = test.fillna({'MarkDown2':0})\n",
    "test = test.fillna({'MarkDown3':0})\n",
    "test = test.fillna({'MarkDown4':0})\n",
    "test = test.fillna({'MarkDown5':0})\n",
    "test = test.fillna({'CPI':np.mean(test['CPI'])})\n",
    "test = test.fillna({'Unemployment':np.mean(test['Unemployment'])})\n",
    "test.head()"
   ]
  },
  {
   "cell_type": "code",
   "execution_count": 14,
   "metadata": {
    "collapsed": true
   },
   "outputs": [],
   "source": [
    "#删除变量Date“”\n",
    "del train['Date']\n",
    "del test['Date']"
   ]
  },
  {
   "cell_type": "code",
   "execution_count": 15,
   "metadata": {
    "collapsed": true
   },
   "outputs": [],
   "source": [
    "#合并变量“MarkDown1-5”\n",
    "MarkDown_train = train['MarkDown1'] + train['MarkDown2'] + train['MarkDown3'] + train['MarkDown4'] + train['MarkDown5']\n",
    "MarkDown_train = pd.DataFrame(MarkDown_train)\n",
    "MarkDown_test = test['MarkDown1'] + test['MarkDown2'] + test['MarkDown3'] + test['MarkDown4'] + test['MarkDown5']\n",
    "MarkDown_test = pd.DataFrame(MarkDown_test)"
   ]
  },
  {
   "cell_type": "code",
   "execution_count": 16,
   "metadata": {
    "collapsed": false,
    "scrolled": true
   },
   "outputs": [],
   "source": [
    "del train['MarkDown1']\n",
    "del train['MarkDown2']\n",
    "del train['MarkDown3']\n",
    "del train['MarkDown4']\n",
    "del train['MarkDown5']\n",
    "train = pd.concat([train,MarkDown_train], axis=1)\n",
    "train.columns = ['Store', 'Dept', 'Weekly_Sales', 'Temperature', 'Fuel_Price', 'CPI', 'Unemployment','IsHoliday', 'Type', 'Size','MarkDown']"
   ]
  },
  {
   "cell_type": "code",
   "execution_count": 17,
   "metadata": {
    "collapsed": false
   },
   "outputs": [],
   "source": [
    "del test['MarkDown1']\n",
    "del test['MarkDown2']\n",
    "del test['MarkDown3']\n",
    "del test['MarkDown4']\n",
    "del test['MarkDown5']\n",
    "test = pd.concat([test,MarkDown_test], axis=1)\n",
    "test.columns = ['Store', 'Dept', 'Temperature', 'Fuel_Price', 'CPI', 'Unemployment','IsHoliday', 'Type', 'Size','MarkDown']"
   ]
  },
  {
   "cell_type": "code",
   "execution_count": 18,
   "metadata": {
    "collapsed": false
   },
   "outputs": [
    {
     "data": {
      "image/png": "[encoded data removed]",
      "text/plain": [
       "<matplotlib.figure.Figure at 0x4831390>"
      ]
     },
     "metadata": {},
     "output_type": "display_data"
    }
   ],
   "source": [
    "#计算各个变量之间的相关性系数\n",
    "corr = train.corr()\n",
    "sns.heatmap(corr.values, xticklabels=corr.index.tolist(), yticklabels=corr.index.tolist())\n",
    "sns.plt.show()"
   ]
  },
  {
   "cell_type": "code",
   "execution_count": 19,
   "metadata": {
    "collapsed": false,
    "scrolled": false
   },
   "outputs": [
    {
     "data": {
      "text/html": [
       "<div>\n",
       "<table border=\"1\" class=\"dataframe\">\n",
       "  <thead>\n",
       "    <tr style=\"text-align: right;\">\n",
       "      <th></th>\n",
       "      <th>Store</th>\n",
       "      <th>Dept</th>\n",
       "      <th>Weekly_Sales</th>\n",
       "      <th>Temperature</th>\n",
       "      <th>Fuel_Price</th>\n",
       "      <th>CPI</th>\n",
       "      <th>Unemployment</th>\n",
       "      <th>IsHoliday</th>\n",
       "      <th>Type</th>\n",
       "      <th>Size</th>\n",
       "      <th>MarkDown</th>\n",
       "    </tr>\n",
       "  </thead>\n",
       "  <tbody>\n",
       "    <tr>\n",
       "      <th>Store</th>\n",
       "      <td>1.000000</td>\n",
       "      <td>0.019704</td>\n",
       "      <td>-0.085891</td>\n",
       "      <td>-0.050517</td>\n",
       "      <td>0.125772</td>\n",
       "      <td>-0.214655</td>\n",
       "      <td>0.232034</td>\n",
       "      <td>-0.001087</td>\n",
       "      <td>0.223706</td>\n",
       "      <td>-0.178718</td>\n",
       "      <td>-0.120843</td>\n",
       "    </tr>\n",
       "    <tr>\n",
       "      <th>Dept</th>\n",
       "      <td>0.019704</td>\n",
       "      <td>1.000000</td>\n",
       "      <td>0.146673</td>\n",
       "      <td>0.001450</td>\n",
       "      <td>-0.000104</td>\n",
       "      <td>-0.006717</td>\n",
       "      <td>0.005512</td>\n",
       "      <td>0.001957</td>\n",
       "      <td>0.000845</td>\n",
       "      <td>0.000366</td>\n",
       "      <td>-0.000440</td>\n",
       "    </tr>\n",
       "    <tr>\n",
       "      <th>Weekly_Sales</th>\n",
       "      <td>-0.085891</td>\n",
       "      <td>0.146673</td>\n",
       "      <td>1.000000</td>\n",
       "      <td>-0.007381</td>\n",
       "      <td>-0.014529</td>\n",
       "      <td>-0.019760</td>\n",
       "      <td>-0.032092</td>\n",
       "      <td>0.017975</td>\n",
       "      <td>-0.182525</td>\n",
       "      <td>0.244095</td>\n",
       "      <td>0.124543</td>\n",
       "    </tr>\n",
       "    <tr>\n",
       "      <th>Temperature</th>\n",
       "      <td>-0.050517</td>\n",
       "      <td>0.001450</td>\n",
       "      <td>-0.007381</td>\n",
       "      <td>1.000000</td>\n",
       "      <td>0.244642</td>\n",
       "      <td>0.183971</td>\n",
       "      <td>0.015515</td>\n",
       "      <td>-0.148857</td>\n",
       "      <td>0.043746</td>\n",
       "      <td>-0.058994</td>\n",
       "      <td>-0.227904</td>\n",
       "    </tr>\n",
       "    <tr>\n",
       "      <th>Fuel_Price</th>\n",
       "      <td>0.125772</td>\n",
       "      <td>-0.000104</td>\n",
       "      <td>-0.014529</td>\n",
       "      <td>0.244642</td>\n",
       "      <td>1.000000</td>\n",
       "      <td>-0.395029</td>\n",
       "      <td>0.258124</td>\n",
       "      <td>-0.149458</td>\n",
       "      <td>0.054986</td>\n",
       "      <td>0.001283</td>\n",
       "      <td>-0.167631</td>\n",
       "    </tr>\n",
       "    <tr>\n",
       "      <th>CPI</th>\n",
       "      <td>-0.214655</td>\n",
       "      <td>-0.006717</td>\n",
       "      <td>-0.019760</td>\n",
       "      <td>0.183971</td>\n",
       "      <td>-0.395029</td>\n",
       "      <td>1.000000</td>\n",
       "      <td>-0.277885</td>\n",
       "      <td>-0.002953</td>\n",
       "      <td>-0.069686</td>\n",
       "      <td>0.000061</td>\n",
       "      <td>-0.043654</td>\n",
       "    </tr>\n",
       "    <tr>\n",
       "      <th>Unemployment</th>\n",
       "      <td>0.232034</td>\n",
       "      <td>0.005512</td>\n",
       "      <td>-0.032092</td>\n",
       "      <td>0.015515</td>\n",
       "      <td>0.258124</td>\n",
       "      <td>-0.277885</td>\n",
       "      <td>1.000000</td>\n",
       "      <td>0.028127</td>\n",
       "      <td>0.130349</td>\n",
       "      <td>-0.043075</td>\n",
       "      <td>0.038121</td>\n",
       "    </tr>\n",
       "    <tr>\n",
       "      <th>IsHoliday</th>\n",
       "      <td>-0.001087</td>\n",
       "      <td>0.001957</td>\n",
       "      <td>0.017975</td>\n",
       "      <td>-0.148857</td>\n",
       "      <td>-0.149458</td>\n",
       "      <td>-0.002953</td>\n",
       "      <td>0.028127</td>\n",
       "      <td>1.000000</td>\n",
       "      <td>-0.001471</td>\n",
       "      <td>0.000176</td>\n",
       "      <td>0.304910</td>\n",
       "    </tr>\n",
       "    <tr>\n",
       "      <th>Type</th>\n",
       "      <td>0.223706</td>\n",
       "      <td>0.000845</td>\n",
       "      <td>-0.182525</td>\n",
       "      <td>0.043746</td>\n",
       "      <td>0.054986</td>\n",
       "      <td>-0.069686</td>\n",
       "      <td>0.130349</td>\n",
       "      <td>-0.001471</td>\n",
       "      <td>1.000000</td>\n",
       "      <td>-0.812363</td>\n",
       "      <td>-0.295918</td>\n",
       "    </tr>\n",
       "    <tr>\n",
       "      <th>Size</th>\n",
       "      <td>-0.178718</td>\n",
       "      <td>0.000366</td>\n",
       "      <td>0.244095</td>\n",
       "      <td>-0.058994</td>\n",
       "      <td>0.001283</td>\n",
       "      <td>0.000061</td>\n",
       "      <td>-0.043075</td>\n",
       "      <td>0.000176</td>\n",
       "      <td>-0.812363</td>\n",
       "      <td>1.000000</td>\n",
       "      <td>0.391900</td>\n",
       "    </tr>\n",
       "    <tr>\n",
       "      <th>MarkDown</th>\n",
       "      <td>-0.120843</td>\n",
       "      <td>-0.000440</td>\n",
       "      <td>0.124543</td>\n",
       "      <td>-0.227904</td>\n",
       "      <td>-0.167631</td>\n",
       "      <td>-0.043654</td>\n",
       "      <td>0.038121</td>\n",
       "      <td>0.304910</td>\n",
       "      <td>-0.295918</td>\n",
       "      <td>0.391900</td>\n",
       "      <td>1.000000</td>\n",
       "    </tr>\n",
       "  </tbody>\n",
       "</table>\n",
       "</div>"
      ],
      "text/plain": [
       "                 Store      Dept  Weekly_Sales  Temperature  Fuel_Price  \\\n",
       "Store         1.000000  0.019704     -0.085891    -0.050517    0.125772   \n",
       "Dept          0.019704  1.000000      0.146673     0.001450   -0.000104   \n",
       "Weekly_Sales -0.085891  0.146673      1.000000    -0.007381   -0.014529   \n",
       "Temperature  -0.050517  0.001450     -0.007381     1.000000    0.244642   \n",
       "Fuel_Price    0.125772 -0.000104     -0.014529     0.244642    1.000000   \n",
       "CPI          -0.214655 -0.006717     -0.019760     0.183971   -0.395029   \n",
       "Unemployment  0.232034  0.005512     -0.032092     0.015515    0.258124   \n",
       "IsHoliday    -0.001087  0.001957      0.017975    -0.148857   -0.149458   \n",
       "Type          0.223706  0.000845     -0.182525     0.043746    0.054986   \n",
       "Size         -0.178718  0.000366      0.244095    -0.058994    0.001283   \n",
       "MarkDown     -0.120843 -0.000440      0.124543    -0.227904   -0.167631   \n",
       "\n",
       "                   CPI  Unemployment  IsHoliday      Type      Size  MarkDown  \n",
       "Store        -0.214655      0.232034  -0.001087  0.223706 -0.178718 -0.120843  \n",
       "Dept         -0.006717      0.005512   0.001957  0.000845  0.000366 -0.000440  \n",
       "Weekly_Sales -0.019760     -0.032092   0.017975 -0.182525  0.244095  0.124543  \n",
       "Temperature   0.183971      0.015515  -0.148857  0.043746 -0.058994 -0.227904  \n",
       "Fuel_Price   -0.395029      0.258124  -0.149458  0.054986  0.001283 -0.167631  \n",
       "CPI           1.000000     -0.277885  -0.002953 -0.069686  0.000061 -0.043654  \n",
       "Unemployment -0.277885      1.000000   0.028127  0.130349 -0.043075  0.038121  \n",
       "IsHoliday    -0.002953      0.028127   1.000000 -0.001471  0.000176  0.304910  \n",
       "Type         -0.069686      0.130349  -0.001471  1.000000 -0.812363 -0.295918  \n",
       "Size          0.000061     -0.043075   0.000176 -0.812363  1.000000  0.391900  \n",
       "MarkDown     -0.043654      0.038121   0.304910 -0.295918  0.391900  1.000000  "
      ]
     },
     "execution_count": 19,
     "metadata": {},
     "output_type": "execute_result"
    }
   ],
   "source": [
    "corr"
   ]
  },
  {
   "cell_type": "code",
   "execution_count": 20,
   "metadata": {
    "collapsed": false
   },
   "outputs": [
    {
     "data": {
      "image/png": "[encoded data removed]",
      "text/plain": [
       "<matplotlib.figure.Figure at 0xbfb4860>"
      ]
     },
     "metadata": {},
     "output_type": "display_data"
    }
   ],
   "source": [
    "#画出温度与销售额的散点图\n",
    "sns.jointplot(x='Temperature',y='Weekly_Sales',data=train)\n",
    "sns.plt.show()"
   ]
  },
  {
   "cell_type": "code",
   "execution_count": 21,
   "metadata": {
    "collapsed": false
   },
   "outputs": [],
   "source": [
    "#删除变量“Temperature”\n",
    "del train['Temperature']\n",
    "del test['Temperature']"
   ]
  },
  {
   "cell_type": "code",
   "execution_count": 22,
   "metadata": {
    "collapsed": false,
    "scrolled": false
   },
   "outputs": [
    {
     "data": {
      "image/png": "[encoded data removed]",
      "text/plain": [
       "<matplotlib.figure.Figure at 0xbfb4828>"
      ]
     },
     "metadata": {},
     "output_type": "display_data"
    }
   ],
   "source": [
    "#画出变量油价与销售额之间的散点图\n",
    "sns.jointplot(x='Fuel_Price',y='Weekly_Sales',data=train)\n",
    "sns.plt.show()"
   ]
  },
  {
   "cell_type": "code",
   "execution_count": 23,
   "metadata": {
    "collapsed": false
   },
   "outputs": [
    {
     "data": {
      "image/png": "[encoded data removed]",
      "text/plain": [
       "<matplotlib.figure.Figure at 0xb8afd68>"
      ]
     },
     "metadata": {},
     "output_type": "display_data"
    }
   ],
   "source": [
    "#画出变量商店类型与销售额之间的箱体图\n",
    "sns.boxplot(x='Type',y='Weekly_Sales',data=train)\n",
    "sns.plt.show()"
   ]
  },
  {
   "cell_type": "code",
   "execution_count": 24,
   "metadata": {
    "collapsed": false
   },
   "outputs": [
    {
     "data": {
      "image/png": "[encoded data removed]",
      "text/plain": [
       "<matplotlib.figure.Figure at 0x131bf710>"
      ]
     },
     "metadata": {},
     "output_type": "display_data"
    }
   ],
   "source": [
    "#画出变量商店规模与销售额之间的散点图\n",
    "sns.jointplot(x='Size',y='Weekly_Sales',data=train)\n",
    "sns.plt.show()"
   ]
  },
  {
   "cell_type": "code",
   "execution_count": 25,
   "metadata": {
    "collapsed": false
   },
   "outputs": [
    {
     "data": {
      "image/png": "[encoded data removed]",
      "text/plain": [
       "<matplotlib.figure.Figure at 0xb9a9400>"
      ]
     },
     "metadata": {},
     "output_type": "display_data"
    }
   ],
   "source": [
    "#画出变量降价与销售额之间的散点图\n",
    "sns.jointplot(x='MarkDown',y='Weekly_Sales',data=train)\n",
    "sns.plt.show()"
   ]
  },
  {
   "cell_type": "code",
   "execution_count": 26,
   "metadata": {
    "collapsed": false
   },
   "outputs": [
    {
     "data": {
      "image/png": "[encoded data removed]",
      "text/plain": [
       "<matplotlib.figure.Figure at 0x131e5c50>"
      ]
     },
     "metadata": {},
     "output_type": "display_data"
    }
   ],
   "source": [
    "#画出变量节假日与销售额之间的箱体图\n",
    "sns.boxplot(x='IsHoliday',y='Weekly_Sales',data=train)\n",
    "sns.plt.show()"
   ]
  },
  {
   "cell_type": "code",
   "execution_count": 27,
   "metadata": {
    "collapsed": false
   },
   "outputs": [
    {
     "data": {
      "image/png": "[encoded data removed]",
      "text/plain": [
       "<matplotlib.figure.Figure at 0x125b4ba8>"
      ]
     },
     "metadata": {},
     "output_type": "display_data"
    }
   ],
   "source": [
    "#画出变量CPI与销售额之间的散点图\n",
    "sns.jointplot(x='CPI',y='Weekly_Sales',data=train)\n",
    "sns.plt.show()"
   ]
  },
  {
   "cell_type": "code",
   "execution_count": 28,
   "metadata": {
    "collapsed": false,
    "scrolled": false
   },
   "outputs": [
    {
     "data": {
      "image/png": "[encoded data removed]",
      "text/plain": [
       "<matplotlib.figure.Figure at 0x13cbf208>"
      ]
     },
     "metadata": {},
     "output_type": "display_data"
    }
   ],
   "source": [
    "#换出变量失业率与销售额之间的散点图\n",
    "sns.jointplot(x='Unemployment',y='Weekly_Sales',data=train)\n",
    "sns.plt.show()"
   ]
  },
  {
   "cell_type": "code",
   "execution_count": 29,
   "metadata": {
    "collapsed": false
   },
   "outputs": [
    {
     "data": {
      "text/html": [
       "<div>\n",
       "<table border=\"1\" class=\"dataframe\">\n",
       "  <thead>\n",
       "    <tr style=\"text-align: right;\">\n",
       "      <th></th>\n",
       "      <th>Store</th>\n",
       "      <th>Dept</th>\n",
       "      <th>Weekly_Sales</th>\n",
       "      <th>Fuel_Price</th>\n",
       "      <th>CPI</th>\n",
       "      <th>Unemployment</th>\n",
       "      <th>IsHoliday</th>\n",
       "      <th>Type</th>\n",
       "      <th>Size</th>\n",
       "      <th>MarkDown</th>\n",
       "    </tr>\n",
       "  </thead>\n",
       "  <tbody>\n",
       "    <tr>\n",
       "      <th>6587</th>\n",
       "      <td>1</td>\n",
       "      <td>1</td>\n",
       "      <td>18689.54</td>\n",
       "      <td>3.297</td>\n",
       "      <td>217.998085</td>\n",
       "      <td>7.866</td>\n",
       "      <td>0</td>\n",
       "      <td>1</td>\n",
       "      <td>151315</td>\n",
       "      <td>25671.68</td>\n",
       "    </tr>\n",
       "    <tr>\n",
       "      <th>6588</th>\n",
       "      <td>1</td>\n",
       "      <td>2</td>\n",
       "      <td>44936.47</td>\n",
       "      <td>3.297</td>\n",
       "      <td>217.998085</td>\n",
       "      <td>7.866</td>\n",
       "      <td>0</td>\n",
       "      <td>1</td>\n",
       "      <td>151315</td>\n",
       "      <td>25671.68</td>\n",
       "    </tr>\n",
       "    <tr>\n",
       "      <th>6589</th>\n",
       "      <td>1</td>\n",
       "      <td>3</td>\n",
       "      <td>9959.64</td>\n",
       "      <td>3.297</td>\n",
       "      <td>217.998085</td>\n",
       "      <td>7.866</td>\n",
       "      <td>0</td>\n",
       "      <td>1</td>\n",
       "      <td>151315</td>\n",
       "      <td>25671.68</td>\n",
       "    </tr>\n",
       "    <tr>\n",
       "      <th>6590</th>\n",
       "      <td>1</td>\n",
       "      <td>4</td>\n",
       "      <td>36826.52</td>\n",
       "      <td>3.297</td>\n",
       "      <td>217.998085</td>\n",
       "      <td>7.866</td>\n",
       "      <td>0</td>\n",
       "      <td>1</td>\n",
       "      <td>151315</td>\n",
       "      <td>25671.68</td>\n",
       "    </tr>\n",
       "    <tr>\n",
       "      <th>6591</th>\n",
       "      <td>1</td>\n",
       "      <td>5</td>\n",
       "      <td>31002.65</td>\n",
       "      <td>3.297</td>\n",
       "      <td>217.998085</td>\n",
       "      <td>7.866</td>\n",
       "      <td>0</td>\n",
       "      <td>1</td>\n",
       "      <td>151315</td>\n",
       "      <td>25671.68</td>\n",
       "    </tr>\n",
       "    <tr>\n",
       "      <th>6592</th>\n",
       "      <td>1</td>\n",
       "      <td>6</td>\n",
       "      <td>3527.62</td>\n",
       "      <td>3.297</td>\n",
       "      <td>217.998085</td>\n",
       "      <td>7.866</td>\n",
       "      <td>0</td>\n",
       "      <td>1</td>\n",
       "      <td>151315</td>\n",
       "      <td>25671.68</td>\n",
       "    </tr>\n",
       "    <tr>\n",
       "      <th>6593</th>\n",
       "      <td>1</td>\n",
       "      <td>7</td>\n",
       "      <td>25942.35</td>\n",
       "      <td>3.297</td>\n",
       "      <td>217.998085</td>\n",
       "      <td>7.866</td>\n",
       "      <td>0</td>\n",
       "      <td>1</td>\n",
       "      <td>151315</td>\n",
       "      <td>25671.68</td>\n",
       "    </tr>\n",
       "    <tr>\n",
       "      <th>6594</th>\n",
       "      <td>1</td>\n",
       "      <td>8</td>\n",
       "      <td>34003.52</td>\n",
       "      <td>3.297</td>\n",
       "      <td>217.998085</td>\n",
       "      <td>7.866</td>\n",
       "      <td>0</td>\n",
       "      <td>1</td>\n",
       "      <td>151315</td>\n",
       "      <td>25671.68</td>\n",
       "    </tr>\n",
       "    <tr>\n",
       "      <th>6595</th>\n",
       "      <td>1</td>\n",
       "      <td>9</td>\n",
       "      <td>37670.13</td>\n",
       "      <td>3.297</td>\n",
       "      <td>217.998085</td>\n",
       "      <td>7.866</td>\n",
       "      <td>0</td>\n",
       "      <td>1</td>\n",
       "      <td>151315</td>\n",
       "      <td>25671.68</td>\n",
       "    </tr>\n",
       "    <tr>\n",
       "      <th>6596</th>\n",
       "      <td>1</td>\n",
       "      <td>10</td>\n",
       "      <td>32346.54</td>\n",
       "      <td>3.297</td>\n",
       "      <td>217.998085</td>\n",
       "      <td>7.866</td>\n",
       "      <td>0</td>\n",
       "      <td>1</td>\n",
       "      <td>151315</td>\n",
       "      <td>25671.68</td>\n",
       "    </tr>\n",
       "  </tbody>\n",
       "</table>\n",
       "</div>"
      ],
      "text/plain": [
       "      Store  Dept  Weekly_Sales  Fuel_Price         CPI  Unemployment  \\\n",
       "6587      1     1      18689.54       3.297  217.998085         7.866   \n",
       "6588      1     2      44936.47       3.297  217.998085         7.866   \n",
       "6589      1     3       9959.64       3.297  217.998085         7.866   \n",
       "6590      1     4      36826.52       3.297  217.998085         7.866   \n",
       "6591      1     5      31002.65       3.297  217.998085         7.866   \n",
       "6592      1     6       3527.62       3.297  217.998085         7.866   \n",
       "6593      1     7      25942.35       3.297  217.998085         7.866   \n",
       "6594      1     8      34003.52       3.297  217.998085         7.866   \n",
       "6595      1     9      37670.13       3.297  217.998085         7.866   \n",
       "6596      1    10      32346.54       3.297  217.998085         7.866   \n",
       "\n",
       "      IsHoliday  Type    Size  MarkDown  \n",
       "6587          0     1  151315  25671.68  \n",
       "6588          0     1  151315  25671.68  \n",
       "6589          0     1  151315  25671.68  \n",
       "6590          0     1  151315  25671.68  \n",
       "6591          0     1  151315  25671.68  \n",
       "6592          0     1  151315  25671.68  \n",
       "6593          0     1  151315  25671.68  \n",
       "6594          0     1  151315  25671.68  \n",
       "6595          0     1  151315  25671.68  \n",
       "6596          0     1  151315  25671.68  "
      ]
     },
     "execution_count": 29,
     "metadata": {},
     "output_type": "execute_result"
    }
   ],
   "source": [
    "train.head(10)"
   ]
  },
  {
   "cell_type": "code",
   "execution_count": 30,
   "metadata": {
    "collapsed": false
   },
   "outputs": [
    {
     "name": "stderr",
     "output_type": "stream",
     "text": [
      "D:\\Anaconda3\\lib\\site-packages\\sklearn\\cross_validation.py:44: DeprecationWarning: This module was deprecated in version 0.18 in favor of the model_selection module into which all the refactored classes and functions are moved. Also note that the interface of the new CV iterators are different from that of this module. This module will be removed in 0.20.\n",
      "  \"This module will be removed in 0.20.\", DeprecationWarning)\n"
     ]
    }
   ],
   "source": [
    "#将数据分为训练集和测试集\n",
    "from sklearn import cross_validation\n",
    "y = train['Weekly_Sales']\n",
    "del train['Weekly_Sales']"
   ]
  },
  {
   "cell_type": "code",
   "execution_count": 31,
   "metadata": {
    "collapsed": false
   },
   "outputs": [
    {
     "name": "stdout",
     "output_type": "stream",
     "text": [
      "所保留的n个主成分的方差贡献率：\n",
      "[  9.21883703e-01   7.81156326e-02   3.98648111e-07   2.29046007e-07]\n",
      "累计方差贡献率为：\n",
      "0.999999962843\n"
     ]
    }
   ],
   "source": [
    "#PCA降维\n",
    "from sklearn.decomposition import PCA\n",
    "pca = PCA(copy=True, n_components=4, whiten=False)\n",
    "train_new = pca.fit_transform(train)\n",
    "print ('所保留的n个主成分的方差贡献率：')\n",
    "print (pca.explained_variance_ratio_)\n",
    "print ('累计方差贡献率为：')\n",
    "print (sum(pca.explained_variance_ratio_))"
   ]
  },
  {
   "cell_type": "code",
   "execution_count": 32,
   "metadata": {
    "collapsed": true
   },
   "outputs": [],
   "source": [
    "X = train_new\n",
    "sub_train, sub_test, sub_train_labels, sub_test_labels \\\n",
    "= cross_validation.train_test_split(X, y, test_size=0.4, random_state=0)"
   ]
  },
  {
   "cell_type": "code",
   "execution_count": 33,
   "metadata": {
    "collapsed": false
   },
   "outputs": [
    {
     "name": "stdout",
     "output_type": "stream",
     "text": [
      "Intercept:16160.19\n",
      "Coefficients:\n",
      "[ -9.30505117e-02   2.54302323e-02  -1.09649050e+01   1.08825442e+02]\n",
      "Residual sum of squares: 507845715.45\n",
      "Variance score: 0.08\n"
     ]
    }
   ],
   "source": [
    "#线性回归模型\n",
    "from sklearn import linear_model\n",
    "linear = linear_model.LinearRegression()\n",
    "linear.fit(sub_train, sub_train_labels)\n",
    "sub_test_pred = linear.predict(sub_test)\n",
    "print ('Intercept:%.2f' % linear.intercept_)\n",
    "print ('Coefficients:')\n",
    "print (linear.coef_)\n",
    "print ('Residual sum of squares: %.2f' % np.mean((linear.predict(sub_test)-sub_test_labels)**2))\n",
    "print ('Variance score: %.2f' % linear.score(sub_test, sub_test_labels))"
   ]
  },
  {
   "cell_type": "code",
   "execution_count": 34,
   "metadata": {
    "collapsed": false
   },
   "outputs": [
    {
     "name": "stdout",
     "output_type": "stream",
     "text": [
      "Intercept:16160.19\n",
      "Coefficients:\n",
      "[ -9.30505124e-02   2.54302296e-02  -1.09642904e+01   1.08824373e+02]\n",
      "Residual sum of squares: 489265893.10\n",
      "Variance score: 0.08\n"
     ]
    }
   ],
   "source": [
    "#LASSO回归\n",
    "from sklearn import linear_model\n",
    "lasso = linear_model.Lasso()\n",
    "lasso.fit(sub_train, sub_train_labels)\n",
    "print ('Intercept:%.2f' % lasso.intercept_)\n",
    "print ('Coefficients:')\n",
    "print (lasso.coef_)\n",
    "print ('Residual sum of squares: %.2f' % np.mean((lasso.predict(sub_train)-sub_train_labels)**2))\n",
    "print ('Variance score: %.2f' % lasso.score(sub_train, sub_train_labels))"
   ]
  },
  {
   "cell_type": "code",
   "execution_count": 35,
   "metadata": {
    "collapsed": false
   },
   "outputs": [
    {
     "name": "stdout",
     "output_type": "stream",
     "text": [
      "Residual sum of squares: 69623546.29\n",
      "Variance score: 0.87\n"
     ]
    }
   ],
   "source": [
    "#随机森林回归预测\n",
    "from sklearn.ensemble import RandomForestRegressor\n",
    "forest = RandomForestRegressor(n_estimators=100)\n",
    "model = forest.fit(sub_train, sub_train_labels)\n",
    "print ('Residual sum of squares: %.2f' % np.mean((forest.predict(sub_test)-sub_test_labels)**2))\n",
    "print ('Variance score: %.2f' % forest.score(sub_test, sub_test_labels))"
   ]
  },
  {
   "cell_type": "code",
   "execution_count": 36,
   "metadata": {
    "collapsed": false
   },
   "outputs": [
    {
     "name": "stdout",
     "output_type": "stream",
     "text": [
      "所保留的n个主成分的方差贡献率：\n",
      "[  8.31169142e-01   1.68830374e-01   2.46717091e-07   2.03598163e-07]\n",
      "累计方差贡献率为：\n",
      "0.999999966616\n"
     ]
    }
   ],
   "source": [
    "#主成分降维\n",
    "from sklearn.decomposition import PCA\n",
    "pca = PCA(copy=True, n_components=4, whiten=False)\n",
    "test_new = pca.fit_transform(test)\n",
    "print ('所保留的n个主成分的方差贡献率：')\n",
    "print (pca.explained_variance_ratio_)\n",
    "print ('累计方差贡献率为：')\n",
    "print (sum(pca.explained_variance_ratio_))"
   ]
  },
  {
   "cell_type": "code",
   "execution_count": 37,
   "metadata": {
    "collapsed": false
   },
   "outputs": [
    {
     "data": {
      "image/png": "[encoded data removed]",
      "text/plain": [
       "<matplotlib.figure.Figure at 0xb877940>"
      ]
     },
     "metadata": {},
     "output_type": "display_data"
    }
   ],
   "source": [
    "#随机森林预测test集\n",
    "test_label3 = forest.predict(test_new)\n",
    "test_label3 = pd.DataFrame(test_label3)\n",
    "fig = plt.figure()\n",
    "ax = fig.add_subplot(1,1,1)\n",
    "ax.plot(test_label3, 'g-')\n",
    "plt.title('Test Predicting Result')\n",
    "plt.xlabel('Store-Dept')\n",
    "plt.ylabel('Weekly-Sales')\n",
    "sns.plt.show()"
   ]
  },
  {
   "cell_type": "code",
   "execution_count": null,
   "metadata": {
    "collapsed": true
   },
   "outputs": [],
   "source": []
  }
 ],
 "metadata": {
  "kernelspec": {
   "display_name": "Python 2",
   "language": "python",
   "name": "python2"
  },
  "language_info": {
   "codemirror_mode": {
    "name": "ipython",
    "version": 2
   },
   "file_extension": ".py",
   "mimetype": "text/x-python",
   "name": "python",
   "nbconvert_exporter": "python",
   "pygments_lexer": "ipython2",
   "version": "2.7.13"
  }
 },
 "nbformat": 4,
 "nbformat_minor": 2
}
